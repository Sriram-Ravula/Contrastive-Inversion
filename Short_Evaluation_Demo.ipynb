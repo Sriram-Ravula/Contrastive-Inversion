{
 "cells": [
  {
   "cell_type": "code",
   "execution_count": null,
   "id": "every-jonathan",
   "metadata": {},
   "outputs": [],
   "source": [
    "import numpy as np\n",
    "import torch\n",
    "import torchvision.transforms as transforms\n",
    "import torchvision\n",
    "import os\n",
    "import yaml\n",
    "from torch.utils.data import DataLoader\n",
    "from torch.utils.data.dataset import Dataset, Subset\n",
    "from torchvision.datasets import ImageFolder\n",
    "from utils import *\n",
    "import matplotlib.pyplot as plt\n",
    "\n",
    "from pytorch_lightning import Trainer\n",
    "from baselines import Baseline\n",
    "from linear_probe import Linear\n",
    "\n",
    "import warnings\n",
    "warnings.filterwarnings(\"ignore\")\n"
   ]
  },
  {
   "cell_type": "markdown",
   "id": "elegant-brief",
   "metadata": {},
   "source": [
    "## Distortions\n",
    "\n",
    "Here is a sample of the distortions used to train our models."
   ]
  },
  {
   "cell_type": "code",
   "execution_count": null,
   "id": "vocational-multiple",
   "metadata": {},
   "outputs": [],
   "source": [
    "r50 = RandomMask(percent_missing=0.5, fixed = False)\n",
    "r75 = RandomMask(percent_missing=0.75, fixed = False)\n",
    "r90 = RandomMask(percent_missing=0.90, fixed = False)\n",
    "\n",
    "blur21 = transforms.GaussianBlur(kernel_size=21, sigma=5)\n",
    "blur37 = transforms.GaussianBlur(kernel_size=37, sigma=9)\n",
    "\n",
    "noise01 = GaussianNoise(std=0.1, fixed=False)\n",
    "noise03 = GaussianNoise(std=0.3, fixed=False)\n",
    "noise05 = GaussianNoise(std=0.5, fixed=False)\n",
    "\n",
    "transform = transforms.Compose([\n",
    "    transforms.Resize(256),\n",
    "    transforms.CenterCrop(224),\n",
    "    transforms.ToTensor()\n",
    "])\n",
    "\n",
    "val_dataset = ImageNet100(\n",
    "    root='/home/sriram/Projects/Datasets/ImageNet100',\n",
    "    split = 'train',\n",
    "    transform = transform\n",
    ")\n",
    "\n",
    "val_dataloader = DataLoader(val_dataset, batch_size=1, num_workers=24,\\\n",
    "                            pin_memory=True, shuffle=True)\n",
    "\n",
    "pic = next(iter(val_dataloader))[0][0]\n",
    "plt.figure()\n",
    "plt.axis('off')\n",
    "plt.title(\"Original\", fontsize=20)\n",
    "plt.imshow(pic.permute(1, 2, 0))"
   ]
  },
  {
   "cell_type": "code",
   "execution_count": null,
   "id": "supported-gamma",
   "metadata": {},
   "outputs": [],
   "source": [
    "rand50 = r50(pic)\n",
    "rand75 = r75(pic)\n",
    "rand90 = r90(pic)\n",
    "\n",
    "b21 = blur21(pic)\n",
    "b37 = blur37(pic)\n",
    "\n",
    "n01 = noise01(pic)\n",
    "n03 = noise03(pic)\n",
    "n05 = noise05(pic)\n",
    "\n",
    "imgs = [pic, b21, b37, rand50, rand75, rand90, n01, n03, n05]\n",
    "labels = [\"ORIGINAL\", \"BLUR N=21\", \"BLUR N=37\", \"RANDOM MASK 50%\", \\\n",
    "          \"RANDOM MASK 75%\", \"RANDOM MASK 90%\", \"GAUSSIAN NOISE σ=0.1\", \"GAUSSIAN NOISE σ=0.3\", \"GAUSSIAN NOISE σ=0.5\"]\n",
    "\n",
    "_, axs = plt.subplots(3, 3, figsize=(12, 13))\n",
    "plt.subplots_adjust(wspace=0.05, hspace=0.15)\n",
    "axs = axs.flatten()\n",
    "i=0\n",
    "for img, ax in zip(imgs, axs):\n",
    "    ax.imshow(img.permute(1, 2, 0))\n",
    "    ax.title.set_text(labels[i])\n",
    "    ax.title.set_size(16)\n",
    "    ax.axis('off')\n",
    "    i = i +1\n",
    "plt.show()"
   ]
  },
  {
   "cell_type": "markdown",
   "id": "associate-texture",
   "metadata": {},
   "source": [
    "## Evaluation of Baseline and LinearProbe\n",
    "\n",
    "Here is a small evaluation script to run testing on the Baseline and LinearProbe models. Make sure to import the checkpoints, as described in the README, as well as have CUDA enabled in your system."
   ]
  },
  {
   "cell_type": "code",
   "execution_count": null,
   "id": "shaped-competition",
   "metadata": {},
   "outputs": [],
   "source": [
    "from pytorch_lightning import Trainer\n",
    "from baselines import Baseline\n",
    "from linear_probe import LinearProbe\n",
    "\n",
    "baseline_file = 'rand90_baseline.ckpt'\n",
    "linear_file = 'rand90_linear.ckpt'\n",
    "\n",
    "transform = transforms.Compose([\n",
    "    transforms.Resize(256),\n",
    "    transforms.CenterCrop(224),\n",
    "    transforms.ToTensor(),\n",
    "    RandomMask(percent_missing=0.90, fixed = False)\n",
    "])\n",
    "\n",
    "val_dataset = ImageNet100(\n",
    "    root='/home/sriram/Projects/Datasets/ImageNet100',\n",
    "    split = 'train',\n",
    "    transform = transform\n",
    ")\n",
    "\n",
    "test_dataloader = DataLoader(val_dataset, batch_size=64, num_workers=24,\\\n",
    "                            pin_memory=True, shuffle=False)\n",
    "\n",
    "trainer = Trainer(gpus=1)"
   ]
  },
  {
   "cell_type": "code",
   "execution_count": null,
   "id": "bigger-weapon",
   "metadata": {},
   "outputs": [],
   "source": [
    "baseline_model = Baseline.load_from_checkpoint(baseline_file)\n",
    "trainer.test(baseline_model, test_dataloaders=test_dataloader)"
   ]
  },
  {
   "cell_type": "code",
   "execution_count": null,
   "id": "powered-satellite",
   "metadata": {},
   "outputs": [],
   "source": [
    "linear_model = Baseline.load_from_checkpoint(linear_file)\n",
    "trainer.test(linear_model, test_dataloaders=test_dataloader)"
   ]
  }
 ],
 "metadata": {
  "kernelspec": {
   "display_name": "Python 3",
   "language": "python",
   "name": "python3"
  },
  "language_info": {
   "codemirror_mode": {
    "name": "ipython",
    "version": 3
   },
   "file_extension": ".py",
   "mimetype": "text/x-python",
   "name": "python",
   "nbconvert_exporter": "python",
   "pygments_lexer": "ipython3",
   "version": "3.6.12"
  }
 },
 "nbformat": 4,
 "nbformat_minor": 5
}
