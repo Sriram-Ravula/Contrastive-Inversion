{
 "cells": [
  {
   "cell_type": "code",
   "execution_count": null,
   "metadata": {},
   "outputs": [],
   "source": [
    "import torch\n",
    "from torchvision.datasets import ImageNet\n",
    "import torchvision.transforms as transforms\n",
    "from torch.utils.data import DataLoader, Dataset\n",
    "\n",
    "import glob\n",
    "import os \n",
    "import matplotlib.pyplot as plt \n",
    "\n",
    "from u2nets import BGMask\n",
    "import spur_datasets.waterbirds as wb"
   ]
  },
  {
   "cell_type": "code",
   "execution_count": null,
   "metadata": {},
   "outputs": [],
   "source": [
    "def show_batch(x, *args, num=8): # HELPFUL UTILITY FOR SHOWING IMAGES INLINE\n",
    "    # Helper to show a batch of images \n",
    "    if isinstance(x, DataLoader):\n",
    "        x = next(iter(x))[0]\n",
    "    elif isinstance(x, Dataset):\n",
    "        x = next(iter(DataLoader(x, batch_size=num, shuffle=True)))[0]\n",
    "    sub_x = x[:num]\n",
    "    im2show = torch.cat([_ for _ in x[:8]], dim=2).permute(1,2,0)\n",
    "    fig, ax = plt.subplots(figsize=(20,20))\n",
    "    ax.imshow(im2show)"
   ]
  },
  {
   "cell_type": "code",
   "execution_count": null,
   "metadata": {},
   "outputs": [],
   "source": [
    "# Step 1: show bird dataset works \n",
    "wb_set = DataLoader(wb.BirdSet(), batch_size=8, shuffle=True)\n",
    "\n",
    "show_batch(wb_set)\n",
    "# Behold... birds! "
   ]
  },
  {
   "cell_type": "code",
   "execution_count": null,
   "metadata": {},
   "outputs": [],
   "source": [
    "# Step 2: Show background image remover works okay-ish \n",
    "rand_bg = BGMask(background='r')\n",
    "gray_bg = BGMask(background='g')\n",
    "\n",
    "x, _ = next(iter(wb_set))\n"
   ]
  },
  {
   "cell_type": "code",
   "execution_count": null,
   "metadata": {},
   "outputs": [],
   "source": [
    "# rando background: \n",
    "show_batch(rand_bg(x))"
   ]
  },
  {
   "cell_type": "code",
   "execution_count": null,
   "metadata": {},
   "outputs": [],
   "source": [
    "# Gray background \n",
    "show_batch(gray_bg(x))\n"
   ]
  },
  {
   "cell_type": "code",
   "execution_count": null,
   "metadata": {},
   "outputs": [],
   "source": [
    "# Step 3: Show the use case as a transformer in dataset (maybe not efficient)\n",
    "\n",
    "default_xform = wb.BirdSet().transform\n",
    "print(\"DEFAULT XFORM\\n\", default_xform) # Default bird transform \n",
    "new_xform = transforms.Compose(default_xform.transforms + [rand_bg])\n"
   ]
  },
  {
   "cell_type": "code",
   "execution_count": null,
   "metadata": {
    "scrolled": false
   },
   "outputs": [],
   "source": [
    "bgless_birds = DataLoader(wb.BirdSet(transform=new_xform), batch_size=8, shuffle=True)\n",
    "show_batch(next(iter(bgless_birds))[0])"
   ]
  },
  {
   "cell_type": "code",
   "execution_count": null,
   "metadata": {},
   "outputs": [],
   "source": []
  }
 ],
 "metadata": {
  "kernelspec": {
   "display_name": "Python 3",
   "language": "python",
   "name": "python3"
  },
  "language_info": {
   "codemirror_mode": {
    "name": "ipython",
    "version": 3
   },
   "file_extension": ".py",
   "mimetype": "text/x-python",
   "name": "python",
   "nbconvert_exporter": "python",
   "pygments_lexer": "ipython3",
   "version": "3.6.9"
  }
 },
 "nbformat": 4,
 "nbformat_minor": 4
}
